{
 "cells": [
  {
   "cell_type": "markdown",
   "metadata": {},
   "source": [
    "# A Simple Solar Orbiting Animation with Matplotlib"
   ]
  },
  {
   "cell_type": "markdown",
   "metadata": {},
   "source": [
    "### Introduction"
   ]
  },
  {
   "cell_type": "markdown",
   "metadata": {},
   "source": [
    "Three dimensional plots and animation are useful for visualizing scientific computation solutions such as ODE and PDES. Some of the very advanced Matplotlib libraries include:\n",
    "    1). Support for Latex formated labels and texts.\n",
    "    2). High quality output supporting format such as PNG, PDF, SVG, and PGF.\n",
    "    3). GUI for interactively exploring figures."
   ]
  },
  {
   "cell_type": "markdown",
   "metadata": {},
   "source": [
    "The most important objects are figures, axes, and lines. In this simple project, we explore the functionaily for line ploting and animation in 3D. We then save the animation film as MP4 file to the local disk."
   ]
  },
  {
   "cell_type": "markdown",
   "metadata": {},
   "source": [
    "### Oribit Data"
   ]
  },
  {
   "cell_type": "markdown",
   "metadata": {},
   "source": [
    "We download the oribit.npz file which contains the oribits for Mercury, Venus, Earth, and Mars. The oribits are stored as 3D numpy array for each of the planets. For each planets, there are three columns of oribits in X, Y, and Z coordinates respectively. The center of the solar system is the Sun. All planets relative to the Sun are expressed in the astronomical units. That is the distance between Earth and Sun which is approximately 150 million kilometers."
   ]
  },
  {
   "cell_type": "code",
   "execution_count": null,
   "metadata": {},
   "outputs": [],
   "source": [
    "# Using numpy to load data from npz file\n",
    "# Processing orbiting data by combining \n",
    "def loadData(name):\n",
    "    Data = []\n",
    "    # Load picked object from 'npz' or 'npy' file\n",
    "    data = np.load(name)\n",
    "    # Load data from mercury column\n",
    "    mer = data['mercury']\n",
    "    # Load data from venus column\n",
    "    ven = data['venus']\n",
    "    # Load data from earth column\n",
    "    ear = data['earth']\n",
    "    # Load data from mars column\n",
    "    mars = data['mars']\n",
    "    # Add oribits data of four planets to the list\n",
    "    Data.append(mer)\n",
    "    Data.append(ven)\n",
    "    Data.append(ear)\n",
    "    Data.append(mars)\n",
    "    # Returning Columns of three coordinates of each\n",
    "    # of the four planets\n",
    "    return Data"
   ]
  },
  {
   "cell_type": "markdown",
   "metadata": {},
   "source": [
    "The loadData function processes the oribits from the downloaded npz file. This function returns coordinate of matrics in dimension of 1400 X 3 for Mercury, Venus, Earth, and Mars respectively. That is there are 1400 rows of coordinate for each of the columns. The matrices will be stored in Data."
   ]
  },
  {
   "cell_type": "code",
   "execution_count": null,
   "metadata": {},
   "outputs": [],
   "source": [
    "# Oribting matrix is ready for future processing\n",
    "Data = loadData(\"src/orbits.npz\")"
   ]
  },
  {
   "cell_type": "markdown",
   "metadata": {},
   "source": [
    "### Ploting"
   ]
  },
  {
   "cell_type": "markdown",
   "metadata": {},
   "source": [
    "The plt.figure() creates a matplotlib.figure.Figure object. Both 3D ploting and animation require to define the figure object. The figure object allows the animation to be updated and modified. "
   ]
  },
  {
   "cell_type": "code",
   "execution_count": null,
   "metadata": {},
   "outputs": [],
   "source": [
    "# Create figure object\n",
    "fig = plt.figure()"
   ]
  },
  {
   "cell_type": "markdown",
   "metadata": {},
   "source": [
    "Axes are spaces to plot on. It is created by the add_subplot() function. Figures have multiple axes."
   ]
  },
  {
   "cell_type": "code",
   "execution_count": null,
   "metadata": {},
   "outputs": [],
   "source": [
    "# Create 3D axes object\n",
    "ax = fig.add_subplot(projection='3d')"
   ]
  },
  {
   "cell_type": "code",
   "execution_count": null,
   "metadata": {},
   "outputs": [],
   "source": [
    "# Set 3D X axis limit\n",
    "ax.set_xlim3d([-1.375,1.375])\n",
    "# Set X axis label\n",
    "ax.set_xlabel('X Axis')\n",
    "# Set 3D Y axis limit\n",
    "ax.set_ylim3d([-1.375,1.375])\n",
    "# Set Y axis label\n",
    "ax.set_ylabel('Y Axis')\n",
    "# Set Z axis limit\n",
    "ax.set_zlim3d([-3.0,3.0])\n",
    "# Set Z axis label\n",
    "ax.set_zlabel('Z Axis')\n",
    "# Set figure title\n",
    "ax.set_title(\"Solar Oribits\")"
   ]
  },
  {
   "cell_type": "markdown",
   "metadata": {},
   "source": [
    "We plot the Sun, planets oribit lines, and planets in three seperate plots. The Sun is plotted at a fixed coordinate. Then we draw the oribit lines for each of the four planets. The oribit lines are not animated. Finally, we animate the four planets oribiting alone with the oribiting lines."
   ]
  },
  {
   "cell_type": "code",
   "execution_count": null,
   "metadata": {},
   "outputs": [],
   "source": [
    "# Ploting the sun with marker, marker size, and color\n",
    "Sun = ax.plot([-0.951049],[1.52138],[-2.35551],'o',color='#8c1907',label='SUN',markersize=8.0)\n",
    "\n",
    "# Ploting the oribiting lines with line width at 0.8\n",
    "Line = [ax.plot(dat[0,0:1400],dat[1,0:1400],dat[2,0:1400],linestyle='-',linewidth=0.8)[0] for dat in data]\n",
    "\n",
    "# Ploting four solar planets with color, marker and labels\n",
    "planets = [ax.plot(dat[0,0:1],dat[1,0:1],dat[2,0:1],'o',markersize=6.0,color=ln.get_color(),label=names)[0] for dat, ln, names in zip(data,Line,PLANT)]"
   ]
  },
  {
   "cell_type": "code",
   "execution_count": null,
   "metadata": {},
   "outputs": [],
   "source": [
    "# Place legend on the top left corner\n",
    "ax.legend(loc=2)"
   ]
  },
  {
   "cell_type": "markdown",
   "metadata": {},
   "source": [
    "We call the FuncAnimate function to update the movement of the four planets. The coordinate data and plot information are passed into the function with parameter fargs. The update function will be taken by parameter func. We choose to save the animation film to disk. If you want to display the animation, please comment the ani.save call and uncomment plt.show()."
   ]
  },
  {
   "cell_type": "code",
   "execution_count": null,
   "metadata": {},
   "outputs": [],
   "source": [
    "if __name__=='__main__':\n",
    "   # Making animation by repeatlly calling update function\n",
    "   ani = FuncAnimation(fig,update,frames=1000,fargs=(data,planets),interval=80)\n",
    "   # Saving the animation film on local disk\n",
    "   ani.save(\"solar.mp4\",writer=writer)\n",
    "   plt.draw()\n",
    "   # Comment out plt.show due to saving animation\n",
    "   #plt.show()"
   ]
  },
  {
   "cell_type": "markdown",
   "metadata": {},
   "source": [
    "### Updating Animation"
   ]
  },
  {
   "cell_type": "markdown",
   "metadata": {},
   "source": [
    "We define the logic for updating the planets movement in update function. The update function has three parameters which are num, data, and line. Parameter num is defined for number of frames to be animated as whole. The seconde parameter is for the 3D coordinate data for each of the four planets. The final parameter is the plot objects for each of the four planets."
   ]
  },
  {
   "cell_type": "code",
   "execution_count": null,
   "metadata": {},
   "outputs": [],
   "source": [
    "# Updating animation frame with four planets\n",
    "# Number of frame is define by parameter num\n",
    "# Data is passed by parameter data\n",
    "# Plot objects are passed by parameter line\n",
    "def update(num,data,line):\n",
    "    # Load Mercury orbits\n",
    "    Mercury=data[0]\n",
    "    # Load Venus orbits\n",
    "    Venus=data[1]\n",
    "    # Load Earth orbits\n",
    "    Earth=data[2]\n",
    "    # Load Mars orbits\n",
    "    Mars=data[3]\n",
    "\n",
    "    # Load Mercury X axis oribits\n",
    "    MerX = Mercury[0,:num]\n",
    "    # Load Mercury Y axis orbits\n",
    "    MerY = Mercury[1,:num]\n",
    "    # Load Mercury Z axis orbits\n",
    "    MerZ = Mercury[2,:num]\n",
    "\n",
    "    # Load Venus X axis oribits\n",
    "    VenX = Venus[0,:num]\n",
    "    # Load Venus Y axis oribits\n",
    "    VenY = Venus[1,:num]\n",
    "    # Load Venus Z axis oribits\n",
    "    VenZ = Venus[2,:num]\n",
    "\n",
    "    # Load Earth X axis oribits\n",
    "    EarX = Earth[0,:num]\n",
    "    # Load Earth Y axis oribits\n",
    "    EarY = Earth[1,:num]\n",
    "    # Load Earth Z axis oribits\n",
    "    EarZ = Earth[2,:num]\n",
    "\n",
    "    # Load Mars X axis oribits\n",
    "    MarX = Mars[0,:num]\n",
    "    # Load Mars Y axis oribits\n",
    "    MarY = Mars[1,:num]\n",
    "    # Load Mars Z axis oribits\n",
    "    MarZ = Mars[2,:num]\n",
    "\n",
    "    # Will update once the oribits data changed\n",
    "    if (num>0):\n",
    "        # Updating Mercury's latest move X axis \n",
    "        MX = MerX[-1]\n",
    "        # Updating Mercury's latest move Y axis\n",
    "        MY = MerY[-1]\n",
    "        # Updating Mercury's latest move Z axis\n",
    "        MZ = MerZ[-1]\n",
    "        \n",
    "        # Updating Venus's latest move X axis\n",
    "        VX = VenX[-1]\n",
    "        # Updating Venus's latest move Y axis\n",
    "        VY = VenY[-1]\n",
    "        # Updating Venus's latest move Z axis\n",
    "        VZ = VenZ[-1]\n",
    "\n",
    "        # Updating Earth's latest move X axis\n",
    "        ERX = EarX[-1]\n",
    "        # Updating Earth's latest move Y axis\n",
    "        ERY = EarY[-1]\n",
    "        # Updating Earth's latest move Z axis\n",
    "        ERZ = EarZ[-1]\n",
    "\n",
    "        # Updating Mars latest move X axis\n",
    "        MRX = MarX[-1]\n",
    "        # Updating Mars latest move Y axis\n",
    "        MRY = MarY[-1]\n",
    "        # Updating Mars latest move Z axis\n",
    "        MRZ = MarZ[-1]\n",
    "\n",
    "        # Ploting Mercury's update in three dimensions\n",
    "        line[0].set_data(MX,MY)\n",
    "        line[0].set_3d_properties(MZ)\n",
    "\n",
    "        # Ploting Venus's update in three dimensions\n",
    "        line[1].set_data(VX,VY)\n",
    "        line[1].set_3d_properties(VZ)\n",
    "\n",
    "        # Ploting Earth's update in three dimensions\n",
    "        line[2].set_data(ERX,ERY)\n",
    "        line[2].set_3d_properties(ERZ)\n",
    "\n",
    "        # Ploting Mars's update in three dimensions\n",
    "        line[3].set_data(MRX,MRY)\n",
    "        line[3].set_3d_properties(MRZ)\n",
    "        \n",
    "    return line,"
   ]
  },
  {
   "cell_type": "markdown",
   "metadata": {},
   "source": [
    "[![](http://img.youtube.com/vi/PadQpKmnKf8/0.jpg)](http://www.youtube.com/watch?v=PadQpKmnKf8 \"\")"
   ]
  }
 ],
 "metadata": {
  "kernelspec": {
   "display_name": "Python 3",
   "language": "python",
   "name": "python3"
  },
  "language_info": {
   "codemirror_mode": {
    "name": "ipython",
    "version": 3
   },
   "file_extension": ".py",
   "mimetype": "text/x-python",
   "name": "python",
   "nbconvert_exporter": "python",
   "pygments_lexer": "ipython3",
   "version": "3.8.3"
  }
 },
 "nbformat": 4,
 "nbformat_minor": 4
}
